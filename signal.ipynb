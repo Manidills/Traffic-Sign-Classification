{
  "nbformat": 4,
  "nbformat_minor": 0,
  "metadata": {
    "colab": {
      "name": "signal",
      "provenance": [],
      "collapsed_sections": []
    },
    "kernelspec": {
      "name": "python3",
      "display_name": "Python 3"
    },
    "accelerator": "TPU"
  },
  "cells": [
    {
      "cell_type": "code",
      "metadata": {
        "id": "iQ7fExSV11tX",
        "colab_type": "code",
        "outputId": "f30418e3-cc6c-42db-e30c-d6536721f2ad",
        "colab": {
          "base_uri": "https://localhost:8080/",
          "height": 34
        }
      },
      "source": [
        "!ls -lha kaggle.json\n"
      ],
      "execution_count": 1,
      "outputs": [
        {
          "output_type": "stream",
          "text": [
            "-rw-r--r-- 1 root root 62 Nov 11 06:16 kaggle.json\n"
          ],
          "name": "stdout"
        }
      ]
    },
    {
      "cell_type": "code",
      "metadata": {
        "id": "ikoaFF3GNIBb",
        "colab_type": "code",
        "colab": {}
      },
      "source": [
        "import tqdm"
      ],
      "execution_count": 0,
      "outputs": []
    },
    {
      "cell_type": "code",
      "metadata": {
        "id": "vHsTMbLf2Ned",
        "colab_type": "code",
        "colab": {}
      },
      "source": [
        "!pip install -q kaggle"
      ],
      "execution_count": 0,
      "outputs": []
    },
    {
      "cell_type": "code",
      "metadata": {
        "id": "ncqdzA8e2Q4v",
        "colab_type": "code",
        "colab": {}
      },
      "source": [
        "!mkdir -p ~/.kaggle\n",
        "!cp kaggle.json ~/.kaggle/\n",
        "\n",
        "# This permissions change avoids a warning on Kaggle tool startup.\n",
        "!chmod 600 ~/.kaggle/kaggle.json"
      ],
      "execution_count": 0,
      "outputs": []
    },
    {
      "cell_type": "code",
      "metadata": {
        "id": "0hxsJToOzKXU",
        "colab_type": "code",
        "colab": {
          "base_uri": "https://localhost:8080/",
          "height": 124
        },
        "outputId": "0dcb761f-fe43-4a56-c1a7-deba52d19dd1"
      },
      "source": [
        "from google.colab import drive\n",
        "drive.mount('/content/drive')"
      ],
      "execution_count": 5,
      "outputs": [
        {
          "output_type": "stream",
          "text": [
            "Go to this URL in a browser: https://accounts.google.com/o/oauth2/auth?client_id=947318989803-6bn6qk8qdgf4n4g3pfee6491hc0brc4i.apps.googleusercontent.com&redirect_uri=urn%3Aietf%3Awg%3Aoauth%3A2.0%3Aoob&scope=email%20https%3A%2F%2Fwww.googleapis.com%2Fauth%2Fdocs.test%20https%3A%2F%2Fwww.googleapis.com%2Fauth%2Fdrive%20https%3A%2F%2Fwww.googleapis.com%2Fauth%2Fdrive.photos.readonly%20https%3A%2F%2Fwww.googleapis.com%2Fauth%2Fpeopleapi.readonly&response_type=code\n",
            "\n",
            "Enter your authorization code:\n",
            "··········\n",
            "Mounted at /content/drive\n"
          ],
          "name": "stdout"
        }
      ]
    },
    {
      "cell_type": "code",
      "metadata": {
        "id": "mSmCP7iXaJHR",
        "colab_type": "code",
        "colab": {}
      },
      "source": [
        "from tensorflow.keras.models import Sequential\n",
        "from tensorflow.keras.layers import BatchNormalization\n",
        "from tensorflow.keras.layers import Conv2D\n",
        "from tensorflow.keras.layers import MaxPooling2D\n",
        "from tensorflow.keras.layers import Activation\n",
        "from tensorflow.keras.layers import Flatten\n",
        "from tensorflow.keras.layers import Dropout\n",
        "from tensorflow.keras.layers import Dense"
      ],
      "execution_count": 0,
      "outputs": []
    },
    {
      "cell_type": "code",
      "metadata": {
        "id": "LfDntfWIMT8S",
        "colab_type": "code",
        "colab": {}
      },
      "source": [
        "class TrafficSignNet:\n",
        "\t@staticmethod\n",
        "\tdef build(width, height, depth, classes):\n",
        "\t\t# initialize the model along with the input shape to be\n",
        "\t\t# \"channels last\" and the channels dimension itself\n",
        "\t\tmodel = Sequential()\n",
        "\t\tinputShape = (height, width, depth)\n",
        "\t\tchanDim = -1\n",
        "\n",
        "\t\t# CONV => RELU => BN => POOL\n",
        "\t\tmodel.add(Conv2D(8, (5, 5), padding=\"same\",\n",
        "\t\t\tinput_shape=inputShape))\n",
        "\t\tmodel.add(Activation(\"relu\"))\n",
        "\t\tmodel.add(BatchNormalization(axis=chanDim))\n",
        "\t\tmodel.add(MaxPooling2D(pool_size=(2, 2)))\n",
        "\n",
        "\t\t# first set of (CONV => RELU => CONV => RELU) * 2 => POOL\n",
        "\t\tmodel.add(Conv2D(16, (3, 3), padding=\"same\"))\n",
        "\t\tmodel.add(Activation(\"relu\"))\n",
        "\t\tmodel.add(BatchNormalization(axis=chanDim))\n",
        "\t\tmodel.add(Conv2D(16, (3, 3), padding=\"same\"))\n",
        "\t\tmodel.add(Activation(\"relu\"))\n",
        "\t\tmodel.add(BatchNormalization(axis=chanDim))\n",
        "\t\tmodel.add(MaxPooling2D(pool_size=(2, 2)))\n",
        "\n",
        "\t\t# second set of (CONV => RELU => CONV => RELU) * 2 => POOL\n",
        "\t\tmodel.add(Conv2D(32, (3, 3), padding=\"same\"))\n",
        "\t\tmodel.add(Activation(\"relu\"))\n",
        "\t\tmodel.add(BatchNormalization(axis=chanDim))\n",
        "\t\tmodel.add(Conv2D(32, (3, 3), padding=\"same\"))\n",
        "\t\tmodel.add(Activation(\"relu\"))\n",
        "\t\tmodel.add(BatchNormalization(axis=chanDim))\n",
        "\t\tmodel.add(MaxPooling2D(pool_size=(2, 2)))\n",
        "\n",
        "\t\t# first set of FC => RELU layers\n",
        "\t\tmodel.add(Flatten())\n",
        "\t\tmodel.add(Dense(128))\n",
        "\t\tmodel.add(Activation(\"relu\"))\n",
        "\t\tmodel.add(BatchNormalization())\n",
        "\t\tmodel.add(Dropout(0.5))\n",
        "\n",
        "\t\t# second set of FC => RELU layers\n",
        "\t\tmodel.add(Flatten())\n",
        "\t\tmodel.add(Dense(128))\n",
        "\t\tmodel.add(Activation(\"relu\"))\n",
        "\t\tmodel.add(BatchNormalization())\n",
        "\t\tmodel.add(Dropout(0.5))\n",
        "\n",
        "\t\t# softmax classifier\n",
        "\t\tmodel.add(Dense(classes))\n",
        "\t\tmodel.add(Activation(\"softmax\"))\n",
        "\n",
        "\t\t# return the constructed network architecture\n",
        "\t\treturn model"
      ],
      "execution_count": 0,
      "outputs": []
    },
    {
      "cell_type": "code",
      "metadata": {
        "id": "7DdGPjo1M0N9",
        "colab_type": "code",
        "colab": {}
      },
      "source": [
        "import matplotlib\n",
        "matplotlib.use(\"Agg\")\n",
        " \n",
        "# import the necessary packages\n",
        "\n",
        "from tensorflow.keras.preprocessing.image import ImageDataGenerator\n",
        "from tensorflow.keras.optimizers import Adam\n",
        "from tensorflow.keras.utils import to_categorical\n",
        "from sklearn.metrics import classification_report\n",
        "from skimage import transform\n",
        "from skimage import exposure\n",
        "from skimage import io\n",
        "import matplotlib.pyplot as plt\n",
        "import numpy as np\n",
        "import argparse\n",
        "import random\n",
        "import os"
      ],
      "execution_count": 0,
      "outputs": []
    },
    {
      "cell_type": "code",
      "metadata": {
        "id": "cYjKBRh8NOox",
        "colab_type": "code",
        "colab": {}
      },
      "source": [
        "def load_split(basePath, csvPath):\n",
        "\t# initialize the list of data and labels\n",
        "    data = []\n",
        "    labels = []\n",
        "\n",
        "    # load the contents of the CSV file, remove the first line (since\n",
        "    # it contains the CSV header), and shuffle the rows (otherwise\n",
        "    # all examples of a particular class will be in sequential order)\n",
        "    rows = open(csvPath).read().strip().split(\"\\n\")[1:]\n",
        "    random.shuffle(rows)\n",
        "\n",
        "    for (i, row) in enumerate(rows):\n",
        "      # check to see if we should show a status update\n",
        "        \n",
        "\n",
        "        # split the row into components and then grab the class ID\n",
        "        # and image path\n",
        "        (label, imagePath) = row.strip().split(\",\")[-2:]\n",
        "\n",
        "        # derive the full path to the image file and load it\n",
        "        imagePath = os.path.sep.join([basePath, imagePath])\n",
        "        image = io.imread(imagePath)\n",
        "        image = transform.resize(image, (32, 32))\n",
        "        image = exposure.equalize_adapthist(image, clip_limit=0.1)\n",
        "\n",
        "        # update the list of data and labels, respectively\n",
        "        data.append(image)\n",
        "        labels.append(int(label))\n",
        "\n",
        "    # convert the data and labels to NumPy arrays\n",
        "    data = np.array(data)\n",
        "    labels = np.array(labels)\n",
        "\n",
        "    # return a tuple of the data and labels\n",
        "    return (data, labels)\n",
        "\n"
      ],
      "execution_count": 0,
      "outputs": []
    },
    {
      "cell_type": "code",
      "metadata": {
        "id": "4MXT1INpNlrW",
        "colab_type": "code",
        "colab": {}
      },
      "source": [
        "NUM_EPOCHS = 8\n",
        "INIT_LR = 1e-3\n",
        "BS = 64\n",
        " \n",
        "# load the label names\n",
        "labelNames = open('/content/signnames.csv').read().strip().split(\"\\n\")[1:]\n",
        "labelNames = [l.split(\",\")[1] for l in labelNames]"
      ],
      "execution_count": 0,
      "outputs": []
    },
    {
      "cell_type": "code",
      "metadata": {
        "id": "2LPgQc0uOh6V",
        "colab_type": "code",
        "colab": {
          "base_uri": "https://localhost:8080/",
          "height": 680
        },
        "outputId": "42bc083c-b857-4575-842f-f21ebdcd46d1"
      },
      "source": [
        "trainPath = os.path.sep.join([\"/content/drive/My Drive/51\", \"Train.csv\"])\n",
        "testPath = os.path.sep.join([\"/content/drive/My Drive/51\", \"Test.csv\"])\n",
        " \n",
        "# load the training and testing data\n",
        "print(\"[INFO] loading training and testing data...\")\n",
        "(trainX, trainY) = load_split(\"/content/drive/My Drive/51\", trainPath)\n",
        "(testX, testY) = load_split(\"/content/drive/My Drive/51\", testPath)\n",
        " \n",
        "# scale data to the range of [0, 1]\n",
        "trainX = trainX.astype(\"float32\") / 255.0\n",
        "testX = testX.astype(\"float32\") / 255.0\n",
        " \n",
        "# one-hot encode the training and testing labels\n",
        "numLabels = len(np.unique(trainY))\n",
        "trainY = to_categorical(trainY, numLabels)\n",
        "testY = to_categorical(testY, numLabels)\n",
        " \n",
        "# account for skew in the labeled data\n",
        "classTotals = trainY.sum(axis=0)\n",
        "classWeight = classTotals.max() / classTotals\n",
        "\n",
        "aug = ImageDataGenerator(\n",
        "\trotation_range=10,\n",
        "\tzoom_range=0.15,\n",
        "\twidth_shift_range=0.1,\n",
        "\theight_shift_range=0.1,\n",
        "\tshear_range=0.15,\n",
        "\thorizontal_flip=False,\n",
        "\tvertical_flip=False,\n",
        "\tfill_mode=\"nearest\")\n",
        " \n",
        "# initialize the optimizer and compile the model\n",
        "print(\"[INFO] compiling model...\")\n",
        "opt = Adam(lr=INIT_LR, decay=INIT_LR / (NUM_EPOCHS * 0.5))\n",
        "model = TrafficSignNet.build(width=32, height=32, depth=3,\n",
        "\tclasses=numLabels)\n",
        "model.compile(loss=\"categorical_crossentropy\", optimizer=opt,\n",
        "\tmetrics=[\"accuracy\"])\n",
        " \n",
        "# train the network\n",
        "print(\"[INFO] training network...\")\n",
        "H = model.fit_generator(\n",
        "\taug.flow(trainX, trainY, batch_size=BS),\n",
        "\tvalidation_data=(testX, testY),\n",
        "\tsteps_per_epoch=trainX.shape[0] // BS,\n",
        "\tepochs=NUM_EPOCHS,\n",
        "\tclass_weight=classWeight,\n",
        "\tverbose=1)\n"
      ],
      "execution_count": 11,
      "outputs": [
        {
          "output_type": "stream",
          "text": [
            "[INFO] loading training and testing data...\n"
          ],
          "name": "stdout"
        },
        {
          "output_type": "stream",
          "text": [
            "/usr/local/lib/python3.6/dist-packages/skimage/util/dtype.py:135: UserWarning: Possible precision loss when converting from float64 to uint16\n",
            "  .format(dtypeobj_in, dtypeobj_out))\n"
          ],
          "name": "stderr"
        },
        {
          "output_type": "stream",
          "text": [
            "[INFO] compiling model...\n",
            "[INFO] training network...\n",
            "Epoch 1/8\n",
            "611/612 [============================>.] - ETA: 0s - loss: 2.7515 - acc: 0.2639Epoch 1/8\n",
            "12630/612 [===========================================================================================================================================================================================================================================================================================================================================================================================================================================================================================================================================================================================================================================] - 7s 537us/sample - loss: 3.3539 - acc: 0.1390\n",
            "612/612 [==============================] - 92s 150ms/step - loss: 2.7504 - acc: 0.2640 - val_loss: 3.3044 - val_acc: 0.1390\n",
            "Epoch 2/8\n",
            "611/612 [============================>.] - ETA: 0s - loss: 1.6285 - acc: 0.4910Epoch 1/8\n",
            "12630/612 [===========================================================================================================================================================================================================================================================================================================================================================================================================================================================================================================================================================================================================================================] - 6s 508us/sample - loss: 1.1058 - acc: 0.6511\n",
            "612/612 [==============================] - 90s 147ms/step - loss: 1.6285 - acc: 0.4911 - val_loss: 1.0895 - val_acc: 0.6511\n",
            "Epoch 3/8\n",
            "611/612 [============================>.] - ETA: 0s - loss: 1.2241 - acc: 0.6143Epoch 1/8\n",
            "12630/612 [===========================================================================================================================================================================================================================================================================================================================================================================================================================================================================================================================================================================================================================================] - 6s 510us/sample - loss: 0.9501 - acc: 0.6926\n",
            "612/612 [==============================] - 90s 147ms/step - loss: 1.2237 - acc: 0.6145 - val_loss: 0.9300 - val_acc: 0.6926\n",
            "Epoch 4/8\n",
            "611/612 [============================>.] - ETA: 0s - loss: 0.9831 - acc: 0.6877Epoch 1/8\n",
            "12630/612 [===========================================================================================================================================================================================================================================================================================================================================================================================================================================================================================================================================================================================================================================] - 6s 509us/sample - loss: 0.6510 - acc: 0.7813\n",
            "612/612 [==============================] - 90s 147ms/step - loss: 0.9826 - acc: 0.6878 - val_loss: 0.6664 - val_acc: 0.7813\n",
            "Epoch 5/8\n",
            "611/612 [============================>.] - ETA: 0s - loss: 0.8245 - acc: 0.7352Epoch 1/8\n",
            "12630/612 [===========================================================================================================================================================================================================================================================================================================================================================================================================================================================================================================================================================================================================================================] - 6s 505us/sample - loss: 0.5617 - acc: 0.8052\n",
            "612/612 [==============================] - 90s 147ms/step - loss: 0.8242 - acc: 0.7353 - val_loss: 0.5963 - val_acc: 0.8052\n",
            "Epoch 6/8\n",
            "611/612 [============================>.] - ETA: 0s - loss: 0.7215 - acc: 0.7689Epoch 1/8\n",
            "12630/612 [===========================================================================================================================================================================================================================================================================================================================================================================================================================================================================================================================================================================================================================================] - 6s 509us/sample - loss: 0.4911 - acc: 0.8167\n",
            "612/612 [==============================] - 90s 147ms/step - loss: 0.7213 - acc: 0.7690 - val_loss: 0.5788 - val_acc: 0.8167\n",
            "Epoch 7/8\n",
            "611/612 [============================>.] - ETA: 0s - loss: 0.6453 - acc: 0.7960Epoch 1/8\n",
            "12630/612 [===========================================================================================================================================================================================================================================================================================================================================================================================================================================================================================================================================================================================================================================] - 6s 507us/sample - loss: 0.4257 - acc: 0.8348\n",
            "612/612 [==============================] - 90s 146ms/step - loss: 0.6453 - acc: 0.7961 - val_loss: 0.5081 - val_acc: 0.8348\n",
            "Epoch 8/8\n",
            "611/612 [============================>.] - ETA: 0s - loss: 0.5771 - acc: 0.8156Epoch 1/8\n",
            "12630/612 [===========================================================================================================================================================================================================================================================================================================================================================================================================================================================================================================================================================================================================================================] - 6s 512us/sample - loss: 0.4031 - acc: 0.8622\n",
            "612/612 [==============================] - 90s 147ms/step - loss: 0.5772 - acc: 0.8156 - val_loss: 0.4328 - val_acc: 0.8622\n"
          ],
          "name": "stdout"
        }
      ]
    },
    {
      "cell_type": "code",
      "metadata": {
        "id": "AWl7iMOSxdCZ",
        "colab_type": "code",
        "colab": {
          "base_uri": "https://localhost:8080/",
          "height": 920
        },
        "outputId": "1740fed8-36e6-4c49-d79b-ed37984c8fde"
      },
      "source": [
        "print(\"[INFO] evaluating network...\")\n",
        "predictions = model.predict(testX, batch_size=BS)\n",
        "print(classification_report(testY.argmax(axis=1),\n",
        "\tpredictions.argmax(axis=1), target_names=labelNames))\n",
        " \n",
        "# save the network to disk\n",
        "print(\"[INFO] serializing network to '{}'...\".format('/content/signal.model'))\n",
        "model.save(\"/content/signal.model\")"
      ],
      "execution_count": 12,
      "outputs": [
        {
          "output_type": "stream",
          "text": [
            "[INFO] evaluating network...\n",
            "                                                    precision    recall  f1-score   support\n",
            "\n",
            "                              Speed limit (20km/h)       0.89      0.65      0.75        60\n",
            "                              Speed limit (30km/h)       0.94      0.84      0.89       720\n",
            "                              Speed limit (50km/h)       0.81      0.93      0.87       750\n",
            "                              Speed limit (60km/h)       0.80      0.85      0.83       450\n",
            "                              Speed limit (70km/h)       0.76      0.95      0.84       660\n",
            "                              Speed limit (80km/h)       0.87      0.71      0.78       630\n",
            "                       End of speed limit (80km/h)       0.79      0.93      0.85       150\n",
            "                             Speed limit (100km/h)       0.74      0.79      0.77       450\n",
            "                             Speed limit (120km/h)       0.90      0.76      0.82       450\n",
            "                                        No passing       0.99      0.93      0.96       480\n",
            "      No passing for vehicles over 3.5 metric tons       0.96      0.95      0.95       660\n",
            "             Right-of-way at the next intersection       0.84      0.87      0.85       420\n",
            "                                     Priority road       0.98      0.97      0.97       690\n",
            "                                             Yield       1.00      0.98      0.99       720\n",
            "                                              Stop       0.98      0.99      0.98       270\n",
            "                                       No vehicles       0.99      0.70      0.82       210\n",
            "          Vehicles over 3.5 metric tons prohibited       1.00      0.97      0.99       150\n",
            "                                          No entry       1.00      0.98      0.99       360\n",
            "                                   General caution       0.73      0.83      0.78       390\n",
            "                       Dangerous curve to the left       0.46      0.62      0.53        60\n",
            "                      Dangerous curve to the right       0.72      0.81      0.76        90\n",
            "                                      Double curve       0.45      0.50      0.47        90\n",
            "                                        Bumpy road       0.84      0.70      0.76       120\n",
            "                                     Slippery road       0.75      0.51      0.61       150\n",
            "                         Road narrows on the right       0.40      0.41      0.40        90\n",
            "                                         Road work       0.80      0.98      0.88       480\n",
            "                                   Traffic signals       0.66      0.59      0.62       180\n",
            "                                       Pedestrians       0.50      0.12      0.19        60\n",
            "                                 Children crossing       0.93      0.85      0.89       150\n",
            "                                 Bicycles crossing       0.87      0.43      0.58        90\n",
            "                                Beware of ice/snow       0.83      0.29      0.43       150\n",
            "                             Wild animals crossing       0.85      0.89      0.87       270\n",
            "               End of all speed and passing limits       1.00      0.35      0.52        60\n",
            "                                  Turn right ahead       0.92      0.96      0.94       210\n",
            "                                   Turn left ahead       0.86      0.88      0.87       120\n",
            "                                        Ahead only       0.91      0.94      0.93       390\n",
            "                              Go straight or right       0.88      0.90      0.89       120\n",
            "                               Go straight or left       0.71      0.87      0.78        60\n",
            "                                        Keep right       0.90      0.99      0.94       690\n",
            "                                         Keep left       0.87      0.93      0.90        90\n",
            "                              Roundabout mandatory       0.65      0.86      0.74        90\n",
            "                                 End of no passing       0.96      0.78      0.86        60\n",
            "End of no passing by vehicles over 3.5 metric tons       0.79      0.81      0.80        90\n",
            "\n",
            "                                          accuracy                           0.86     12630\n",
            "                                         macro avg       0.82      0.78      0.79     12630\n",
            "                                      weighted avg       0.87      0.86      0.86     12630\n",
            "\n",
            "[INFO] serializing network to '/content/signal.model'...\n"
          ],
          "name": "stdout"
        }
      ]
    },
    {
      "cell_type": "code",
      "metadata": {
        "id": "GRsmojywZDUr",
        "colab_type": "code",
        "colab": {}
      },
      "source": [
        "from tensorflow.keras.models import load_model\n",
        "from skimage import transform\n",
        "from skimage import exposure\n",
        "from skimage import io\n",
        "from imutils import paths\n",
        "import numpy as np\n",
        "import argparse\n",
        "import imutils\n",
        "import random\n",
        "import cv2\n",
        "import os"
      ],
      "execution_count": 0,
      "outputs": []
    },
    {
      "cell_type": "code",
      "metadata": {
        "id": "EukabWswPt_F",
        "colab_type": "code",
        "colab": {
          "base_uri": "https://localhost:8080/",
          "height": 228
        },
        "outputId": "bee51bba-0dc8-44cf-dd10-bcd3ce6a3475"
      },
      "source": [
        "print(\"[INFO] loading model...\")\n",
        "model = load_model(\"/content/signal.model\")\n",
        " \n",
        "# load the label names\n",
        "labelNames = open(\"signnames.csv\").read().strip().split(\"\\n\")[1:]\n",
        "labelNames = [l.split(\",\")[1] for l in labelNames]\n",
        " \n",
        "# grab the paths to the input images, shuffle them, and grab a sample\n",
        "print(\"[INFO] predicting...\")\n",
        "imagePaths = list(paths.list_images(\"/content/drive/My Drive/51/Test\"))\n",
        "random.shuffle(imagePaths)\n",
        "imagePaths = imagePaths[:25]"
      ],
      "execution_count": 15,
      "outputs": [
        {
          "output_type": "stream",
          "text": [
            "[INFO] loading model...\n",
            "WARNING:tensorflow:From /usr/local/lib/python3.6/dist-packages/tensorflow_core/python/ops/init_ops.py:97: calling GlorotUniform.__init__ (from tensorflow.python.ops.init_ops) with dtype is deprecated and will be removed in a future version.\n",
            "Instructions for updating:\n",
            "Call initializer instance with the dtype argument instead of passing it to the constructor\n",
            "WARNING:tensorflow:From /usr/local/lib/python3.6/dist-packages/tensorflow_core/python/ops/init_ops.py:97: calling Zeros.__init__ (from tensorflow.python.ops.init_ops) with dtype is deprecated and will be removed in a future version.\n",
            "Instructions for updating:\n",
            "Call initializer instance with the dtype argument instead of passing it to the constructor\n",
            "WARNING:tensorflow:From /usr/local/lib/python3.6/dist-packages/tensorflow_core/python/ops/init_ops.py:97: calling Ones.__init__ (from tensorflow.python.ops.init_ops) with dtype is deprecated and will be removed in a future version.\n",
            "Instructions for updating:\n",
            "Call initializer instance with the dtype argument instead of passing it to the constructor\n",
            "[INFO] predicting...\n"
          ],
          "name": "stdout"
        }
      ]
    },
    {
      "cell_type": "code",
      "metadata": {
        "id": "2eeI_YdOY8Jg",
        "colab_type": "code",
        "colab": {
          "base_uri": "https://localhost:8080/",
          "height": 72
        },
        "outputId": "06f19e13-9c1b-4e8c-c7a6-7dde6500efc0"
      },
      "source": [
        "for (i, imagePath) in enumerate(imagePaths):\n",
        "\t# load the image, resize it to 32x32 pixels, and then apply\n",
        "\t# Contrast Limited Adaptive Histogram Equalization (CLAHE),\n",
        "\t# just like we did during training\n",
        "\timage = io.imread(imagePath)\n",
        "\timage = transform.resize(image, (32, 32))\n",
        "\timage = exposure.equalize_adapthist(image, clip_limit=0.1)\n",
        " \n",
        "\t# preprocess the image by scaling it to the range [0, 1]\n",
        "\timage = image.astype(\"float32\") / 255.0\n",
        "\timage = np.expand_dims(image, axis=0)\n",
        " \n",
        "\t# make predictions using the traffic sign recognizer CNN\n",
        "\tpreds = model.predict(image)\n",
        "\tj = preds.argmax(axis=1)[0]\n",
        "\tlabel = labelNames[j]\n",
        " \n",
        "\t# load the image using OpenCV, resize it, and draw the label\n",
        "\t# on it\n",
        "\timage = cv2.imread(imagePath)\n",
        "\timage = imutils.resize(image, width=128)\n",
        "\tcv2.putText(image, label, (5, 15), cv2.FONT_HERSHEY_SIMPLEX,\n",
        "\t\t0.45, (0, 0, 255), 2)\n",
        " \n",
        "\t# save the image to disk\n",
        "\tp = os.path.sep.join([\"/content/sample_data\", \"{}.png\".format(i)])\n",
        "\tcv2.imwrite(p, image)"
      ],
      "execution_count": 17,
      "outputs": [
        {
          "output_type": "stream",
          "text": [
            "/usr/local/lib/python3.6/dist-packages/skimage/util/dtype.py:135: UserWarning: Possible precision loss when converting from float64 to uint16\n",
            "  .format(dtypeobj_in, dtypeobj_out))\n"
          ],
          "name": "stderr"
        }
      ]
    },
    {
      "cell_type": "code",
      "metadata": {
        "id": "-0cjKA9eZVzU",
        "colab_type": "code",
        "colab": {}
      },
      "source": [
        ""
      ],
      "execution_count": 0,
      "outputs": []
    }
  ]
}